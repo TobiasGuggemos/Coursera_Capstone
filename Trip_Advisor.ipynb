{
 "cells": [
  {
   "cell_type": "markdown",
   "metadata": {},
   "source": [
    "## Trip Advisor: Analyzing and Clustering German Cities\n",
    "##### by Tobias (https://github.com/TobiasGuggemos), May 2020.\n",
    "\n",
    "[1. Intro](#1.-Intro)\n",
    "\n",
    "[2. Data](#2.-Data)\n",
    "\n",
    "---------"
   ]
  },
  {
   "cell_type": "markdown",
   "metadata": {},
   "source": [
    "### 1. Intro\n",
    "Background: Capstone Project of e-learning course on Coursera about Applied Data Science (Part 1&2).\n",
    "\n",
    "Project: This Notebook is about German cities. The goal is to support decisions about the next spot for a city trip. Potential stakeholders are all people interested in city trips in Germany. We will cluster the cities based on the venues near to the city centre. This will help to choose an appropriate spot for the next city depending on the purpose of the trip and the interest in different venue types. The city clusters can be used to find similar cities to already visited and much appreciated cities and trips.       \n",
    "\n",
    "\n",
    "\n",
    "\n"
   ]
  },
  {
   "cell_type": "markdown",
   "metadata": {},
   "source": [
    "### 2. Data"
   ]
  },
  {
   "cell_type": "markdown",
   "metadata": {},
   "source": [
    "First, we want to identify the largest cities in Germany. Therefore we will use a list on wikipedia of large german cities, large defined as: with a population of min 100k. For all of these cities we need to list the venues around the city center. We will use Foursquare API and Get Venue Recommendations for a given place. Furthermore, let's define the number of requested venues per city and test/start with 100. We consider venues within a circle with a radius of 2,000m around the city center. For the city clustering we also need to know the venue category. This data is also collected via Foursquare.   \n",
    "For this, we need to have all the city latitude and longitude coordinates which we can also explore on wikipedia, some other web pages or we will use Geocoding libraries for Python, e.g. Geopy. \n",
    "\n",
    "\n"
   ]
  },
  {
   "cell_type": "code",
   "execution_count": 11,
   "metadata": {},
   "outputs": [],
   "source": [
    "#!pip install \"ipython-beautifulsoup[bs4]\"\n",
    "from bs4 import BeautifulSoup\n",
    "#let's continue next week :)\n",
    "\n"
   ]
  },
  {
   "cell_type": "code",
   "execution_count": null,
   "metadata": {},
   "outputs": [],
   "source": []
  }
 ],
 "metadata": {
  "kernelspec": {
   "display_name": "Python",
   "language": "python",
   "name": "conda-env-python-py"
  },
  "language_info": {
   "codemirror_mode": {
    "name": "ipython",
    "version": 3
   },
   "file_extension": ".py",
   "mimetype": "text/x-python",
   "name": "python",
   "nbconvert_exporter": "python",
   "pygments_lexer": "ipython3",
   "version": "3.6.10"
  }
 },
 "nbformat": 4,
 "nbformat_minor": 4
}
